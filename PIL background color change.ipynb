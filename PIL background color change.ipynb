{
 "cells": [
  {
   "cell_type": "code",
   "execution_count": 1,
   "metadata": {},
   "outputs": [],
   "source": [
    "import PIL.Image as Image"
   ]
  },
  {
   "cell_type": "code",
   "execution_count": 7,
   "metadata": {},
   "outputs": [],
   "source": [
    "# 以第一个像素为准，相同色改为透明\n",
    "def transparent_back(img):\n",
    "    img = img.convert('RGBA')\n",
    "    L, H = img.size\n",
    "    color_0 = img.getpixel((0,0))\n",
    "    for h in range(H):\n",
    "        for l in range(L):\n",
    "            dot = (l,h)\n",
    "            color_1 = img.getpixel(dot)\n",
    "            if color_1 == color_0:\n",
    "                color_1 = color_1[:-1] + (0,)\n",
    "                img.putpixel(dot,color_1)\n",
    "                return img\n",
    "\n",
    "if __name__ == '__main__':\n",
    "    img=Image.open('round.jpg')\n",
    "    img=transparent_back(img)\n",
    "    img.save('round2.png')"
   ]
  },
  {
   "cell_type": "code",
   "execution_count": null,
   "metadata": {},
   "outputs": [],
   "source": []
  }
 ],
 "metadata": {
  "kernelspec": {
   "display_name": "Python 3",
   "language": "python",
   "name": "python3"
  },
  "language_info": {
   "codemirror_mode": {
    "name": "ipython",
    "version": 3
   },
   "file_extension": ".py",
   "mimetype": "text/x-python",
   "name": "python",
   "nbconvert_exporter": "python",
   "pygments_lexer": "ipython3",
   "version": "3.7.3"
  }
 },
 "nbformat": 4,
 "nbformat_minor": 2
}
